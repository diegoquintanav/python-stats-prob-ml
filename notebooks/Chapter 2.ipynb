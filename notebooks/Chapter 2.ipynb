{
 "cells": [
  {
   "cell_type": "markdown",
   "metadata": {},
   "source": [
    "# Chapter 2: Probabilities\n",
    "## 2.1.2 Random Variables\n"
   ]
  },
  {
   "cell_type": "code",
   "execution_count": 1,
   "metadata": {
    "collapsed": true
   },
   "outputs": [],
   "source": [
    "from pprint import pprint as pp"
   ]
  },
  {
   "cell_type": "markdown",
   "metadata": {},
   "source": [
    "### Probability of getting an outcome of seven from two dies"
   ]
  },
  {
   "cell_type": "code",
   "execution_count": 2,
   "metadata": {},
   "outputs": [
    {
     "data": {
      "text/plain": [
       "{(1, 1): 2,\n",
       " (1, 2): 3,\n",
       " (1, 3): 4,\n",
       " (1, 4): 5,\n",
       " (1, 5): 6,\n",
       " (1, 6): 7,\n",
       " (2, 1): 3,\n",
       " (2, 2): 4,\n",
       " (2, 3): 5,\n",
       " (2, 4): 6,\n",
       " (2, 5): 7,\n",
       " (2, 6): 8,\n",
       " (3, 1): 4,\n",
       " (3, 2): 5,\n",
       " (3, 3): 6,\n",
       " (3, 4): 7,\n",
       " (3, 5): 8,\n",
       " (3, 6): 9,\n",
       " (4, 1): 5,\n",
       " (4, 2): 6,\n",
       " (4, 3): 7,\n",
       " (4, 4): 8,\n",
       " (4, 5): 9,\n",
       " (4, 6): 10,\n",
       " (5, 1): 6,\n",
       " (5, 2): 7,\n",
       " (5, 3): 8,\n",
       " (5, 4): 9,\n",
       " (5, 5): 10,\n",
       " (5, 6): 11,\n",
       " (6, 1): 7,\n",
       " (6, 2): 8,\n",
       " (6, 3): 9,\n",
       " (6, 4): 10,\n",
       " (6, 5): 11,\n",
       " (6, 6): 12}"
      ]
     },
     "execution_count": 2,
     "metadata": {},
     "output_type": "execute_result"
    }
   ],
   "source": [
    "# from page 38\n",
    "d = {(i,j): i+j for i in range(1,7) for j in range(1,7)}\n",
    "d"
   ]
  },
  {
   "cell_type": "code",
   "execution_count": 3,
   "metadata": {},
   "outputs": [
    {
     "name": "stdout",
     "output_type": "stream",
     "text": [
      "(1, 1) 2\n",
      "(1, 2) 3\n",
      "(1, 3) 4\n",
      "(1, 4) 5\n",
      "(1, 5) 6\n",
      "(1, 6) 7\n",
      "(2, 1) 3\n",
      "(2, 2) 4\n",
      "(2, 3) 5\n",
      "(2, 4) 6\n",
      "(2, 5) 7\n",
      "(2, 6) 8\n",
      "(3, 1) 4\n",
      "(3, 2) 5\n",
      "(3, 3) 6\n",
      "(3, 4) 7\n",
      "(3, 5) 8\n",
      "(3, 6) 9\n",
      "(4, 1) 5\n",
      "(4, 2) 6\n",
      "(4, 3) 7\n",
      "(4, 4) 8\n",
      "(4, 5) 9\n",
      "(4, 6) 10\n",
      "(5, 1) 6\n",
      "(5, 2) 7\n",
      "(5, 3) 8\n",
      "(5, 4) 9\n",
      "(5, 5) 10\n",
      "(5, 6) 11\n",
      "(6, 1) 7\n",
      "(6, 2) 8\n",
      "(6, 3) 9\n",
      "(6, 4) 10\n",
      "(6, 5) 11\n",
      "(6, 6) 12\n"
     ]
    }
   ],
   "source": [
    "from collections import defaultdict\n",
    "\n",
    "dinv = defaultdict(list)\n",
    "\n",
    "# creates a dict with the sum of two dies as key and the combination of results\n",
    "# as values\n",
    "for i,j in d.items():\n",
    "    print(i,j)\n",
    "    dinv[j].append(i)"
   ]
  },
  {
   "cell_type": "code",
   "execution_count": 4,
   "metadata": {},
   "outputs": [
    {
     "data": {
      "text/plain": [
       "defaultdict(list,\n",
       "            {2: [(1, 1)],\n",
       "             3: [(1, 2), (2, 1)],\n",
       "             4: [(1, 3), (2, 2), (3, 1)],\n",
       "             5: [(1, 4), (2, 3), (3, 2), (4, 1)],\n",
       "             6: [(1, 5), (2, 4), (3, 3), (4, 2), (5, 1)],\n",
       "             7: [(1, 6), (2, 5), (3, 4), (4, 3), (5, 2), (6, 1)],\n",
       "             8: [(2, 6), (3, 5), (4, 4), (5, 3), (6, 2)],\n",
       "             9: [(3, 6), (4, 5), (5, 4), (6, 3)],\n",
       "             10: [(4, 6), (5, 5), (6, 4)],\n",
       "             11: [(5, 6), (6, 5)],\n",
       "             12: [(6, 6)]})"
      ]
     },
     "execution_count": 4,
     "metadata": {},
     "output_type": "execute_result"
    }
   ],
   "source": [
    "dinv"
   ]
  },
  {
   "cell_type": "code",
   "execution_count": 5,
   "metadata": {},
   "outputs": [
    {
     "data": {
      "text/plain": [
       "[(1, 6), (2, 5), (3, 4), (4, 3), (5, 2), (6, 1)]"
      ]
     },
     "execution_count": 5,
     "metadata": {},
     "output_type": "execute_result"
    }
   ],
   "source": [
    "# combinations that sum 7\n",
    "dinv[7]"
   ]
  },
  {
   "cell_type": "markdown",
   "metadata": {},
   "source": [
    "The probability of getting a number in a dice is $1/6$, and the probability of getting two numbers in one try is $1/6\\cdot1/6=1/36$.\n",
    "\n",
    "Since each outcome is equally likely, the probability of getting $7$ as an outcome is the sum of the probabilities of getting any of the combinations in ```dinv[7]```, that is\n",
    "\n",
    "\n",
    "$$ P_{7}^{t} = \\sum_{i=1}^{n} P_{7}^i $$\n",
    "\n",
    "where $P_7$ is the probability of getting an outcome of $7$ in this context."
   ]
  },
  {
   "cell_type": "code",
   "execution_count": 6,
   "metadata": {},
   "outputs": [
    {
     "name": "stdout",
     "output_type": "stream",
     "text": [
      "{2: 0.027777777777777776,\n",
      " 3: 0.05555555555555555,\n",
      " 4: 0.08333333333333333,\n",
      " 5: 0.1111111111111111,\n",
      " 6: 0.1388888888888889,\n",
      " 7: 0.16666666666666666,\n",
      " 8: 0.1388888888888889,\n",
      " 9: 0.1111111111111111,\n",
      " 10: 0.08333333333333333,\n",
      " 11: 0.05555555555555555,\n",
      " 12: 0.027777777777777776}\n"
     ]
    }
   ],
   "source": [
    "X = {i:len(j)/36. for i,j in dinv.items()}\n",
    "pp(X)"
   ]
  },
  {
   "cell_type": "code",
   "execution_count": 7,
   "metadata": {},
   "outputs": [
    {
     "data": {
      "text/plain": [
       "([<matplotlib.axis.XTick at 0x7f311e1f5128>,\n",
       "  <matplotlib.axis.XTick at 0x7f30f0c70e80>,\n",
       "  <matplotlib.axis.XTick at 0x7f30f0c88978>,\n",
       "  <matplotlib.axis.XTick at 0x7f30eebdfdd8>,\n",
       "  <matplotlib.axis.XTick at 0x7f30eebf0470>,\n",
       "  <matplotlib.axis.XTick at 0x7f30eebf0ac8>,\n",
       "  <matplotlib.axis.XTick at 0x7f30eebf4198>,\n",
       "  <matplotlib.axis.XTick at 0x7f30eebf4828>,\n",
       "  <matplotlib.axis.XTick at 0x7f30eebf4eb8>,\n",
       "  <matplotlib.axis.XTick at 0x7f30eebfb588>,\n",
       "  <matplotlib.axis.XTick at 0x7f30eebfbc18>],\n",
       " <a list of 11 Text xticklabel objects>)"
      ]
     },
     "execution_count": 7,
     "metadata": {},
     "output_type": "execute_result"
    },
    {
     "data": {
      "image/png": "[encoded data removed]",
      "text/plain": [
       "<matplotlib.figure.Figure at 0x7f31183b4b00>"
      ]
     },
     "metadata": {},
     "output_type": "display_data"
    }
   ],
   "source": [
    "import matplotlib.pyplot as plt\n",
    "%matplotlib inline\n",
    "\n",
    "plt.bar(range(len(X)), X.values(), align='center')\n",
    "plt.xticks(range(len(X)), X.keys())"
   ]
  },
  {
   "cell_type": "markdown",
   "metadata": {},
   "source": [
    "We note that the odds for getting seven are bigger, thus a more probable outcome."
   ]
  },
  {
   "cell_type": "markdown",
   "metadata": {},
   "source": [
    "### What is the probability that half the product of three dice will exceed their sum?"
   ]
  },
  {
   "cell_type": "code",
   "execution_count": 8,
   "metadata": {
    "collapsed": true
   },
   "outputs": [],
   "source": [
    "d2 = {(i,j,k):(i*j*k/2) > (i+j+k) for i in range(1,7)\n",
    "      for j in range(1,7)\n",
    "      for k in range(1,7)}"
   ]
  },
  {
   "cell_type": "code",
   "execution_count": 9,
   "metadata": {},
   "outputs": [
    {
     "data": {
      "text/plain": [
       "{(1, 1, 1): False,\n",
       " (1, 1, 2): False,\n",
       " (1, 1, 3): False,\n",
       " (1, 1, 4): False,\n",
       " (1, 1, 5): False,\n",
       " (1, 1, 6): False,\n",
       " (1, 2, 1): False,\n",
       " (1, 2, 2): False,\n",
       " (1, 2, 3): False,\n",
       " (1, 2, 4): False,\n",
       " (1, 2, 5): False,\n",
       " (1, 2, 6): False,\n",
       " (1, 3, 1): False,\n",
       " (1, 3, 2): False,\n",
       " (1, 3, 3): False,\n",
       " (1, 3, 4): False,\n",
       " (1, 3, 5): False,\n",
       " (1, 3, 6): False,\n",
       " (1, 4, 1): False,\n",
       " (1, 4, 2): False,\n",
       " (1, 4, 3): False,\n",
       " (1, 4, 4): False,\n",
       " (1, 4, 5): False,\n",
       " (1, 4, 6): True,\n",
       " (1, 5, 1): False,\n",
       " (1, 5, 2): False,\n",
       " (1, 5, 3): False,\n",
       " (1, 5, 4): False,\n",
       " (1, 5, 5): True,\n",
       " (1, 5, 6): True,\n",
       " (1, 6, 1): False,\n",
       " (1, 6, 2): False,\n",
       " (1, 6, 3): False,\n",
       " (1, 6, 4): True,\n",
       " (1, 6, 5): True,\n",
       " (1, 6, 6): True,\n",
       " (2, 1, 1): False,\n",
       " (2, 1, 2): False,\n",
       " (2, 1, 3): False,\n",
       " (2, 1, 4): False,\n",
       " (2, 1, 5): False,\n",
       " (2, 1, 6): False,\n",
       " (2, 2, 1): False,\n",
       " (2, 2, 2): False,\n",
       " (2, 2, 3): False,\n",
       " (2, 2, 4): False,\n",
       " (2, 2, 5): True,\n",
       " (2, 2, 6): True,\n",
       " (2, 3, 1): False,\n",
       " (2, 3, 2): False,\n",
       " (2, 3, 3): True,\n",
       " (2, 3, 4): True,\n",
       " (2, 3, 5): True,\n",
       " (2, 3, 6): True,\n",
       " (2, 4, 1): False,\n",
       " (2, 4, 2): False,\n",
       " (2, 4, 3): True,\n",
       " (2, 4, 4): True,\n",
       " (2, 4, 5): True,\n",
       " (2, 4, 6): True,\n",
       " (2, 5, 1): False,\n",
       " (2, 5, 2): True,\n",
       " (2, 5, 3): True,\n",
       " (2, 5, 4): True,\n",
       " (2, 5, 5): True,\n",
       " (2, 5, 6): True,\n",
       " (2, 6, 1): False,\n",
       " (2, 6, 2): True,\n",
       " (2, 6, 3): True,\n",
       " (2, 6, 4): True,\n",
       " (2, 6, 5): True,\n",
       " (2, 6, 6): True,\n",
       " (3, 1, 1): False,\n",
       " (3, 1, 2): False,\n",
       " (3, 1, 3): False,\n",
       " (3, 1, 4): False,\n",
       " (3, 1, 5): False,\n",
       " (3, 1, 6): False,\n",
       " (3, 2, 1): False,\n",
       " (3, 2, 2): False,\n",
       " (3, 2, 3): True,\n",
       " (3, 2, 4): True,\n",
       " (3, 2, 5): True,\n",
       " (3, 2, 6): True,\n",
       " (3, 3, 1): False,\n",
       " (3, 3, 2): True,\n",
       " (3, 3, 3): True,\n",
       " (3, 3, 4): True,\n",
       " (3, 3, 5): True,\n",
       " (3, 3, 6): True,\n",
       " (3, 4, 1): False,\n",
       " (3, 4, 2): True,\n",
       " (3, 4, 3): True,\n",
       " (3, 4, 4): True,\n",
       " (3, 4, 5): True,\n",
       " (3, 4, 6): True,\n",
       " (3, 5, 1): False,\n",
       " (3, 5, 2): True,\n",
       " (3, 5, 3): True,\n",
       " (3, 5, 4): True,\n",
       " (3, 5, 5): True,\n",
       " (3, 5, 6): True,\n",
       " (3, 6, 1): False,\n",
       " (3, 6, 2): True,\n",
       " (3, 6, 3): True,\n",
       " (3, 6, 4): True,\n",
       " (3, 6, 5): True,\n",
       " (3, 6, 6): True,\n",
       " (4, 1, 1): False,\n",
       " (4, 1, 2): False,\n",
       " (4, 1, 3): False,\n",
       " (4, 1, 4): False,\n",
       " (4, 1, 5): False,\n",
       " (4, 1, 6): True,\n",
       " (4, 2, 1): False,\n",
       " (4, 2, 2): False,\n",
       " (4, 2, 3): True,\n",
       " (4, 2, 4): True,\n",
       " (4, 2, 5): True,\n",
       " (4, 2, 6): True,\n",
       " (4, 3, 1): False,\n",
       " (4, 3, 2): True,\n",
       " (4, 3, 3): True,\n",
       " (4, 3, 4): True,\n",
       " (4, 3, 5): True,\n",
       " (4, 3, 6): True,\n",
       " (4, 4, 1): False,\n",
       " (4, 4, 2): True,\n",
       " (4, 4, 3): True,\n",
       " (4, 4, 4): True,\n",
       " (4, 4, 5): True,\n",
       " (4, 4, 6): True,\n",
       " (4, 5, 1): False,\n",
       " (4, 5, 2): True,\n",
       " (4, 5, 3): True,\n",
       " (4, 5, 4): True,\n",
       " (4, 5, 5): True,\n",
       " (4, 5, 6): True,\n",
       " (4, 6, 1): True,\n",
       " (4, 6, 2): True,\n",
       " (4, 6, 3): True,\n",
       " (4, 6, 4): True,\n",
       " (4, 6, 5): True,\n",
       " (4, 6, 6): True,\n",
       " (5, 1, 1): False,\n",
       " (5, 1, 2): False,\n",
       " (5, 1, 3): False,\n",
       " (5, 1, 4): False,\n",
       " (5, 1, 5): True,\n",
       " (5, 1, 6): True,\n",
       " (5, 2, 1): False,\n",
       " (5, 2, 2): True,\n",
       " (5, 2, 3): True,\n",
       " (5, 2, 4): True,\n",
       " (5, 2, 5): True,\n",
       " (5, 2, 6): True,\n",
       " (5, 3, 1): False,\n",
       " (5, 3, 2): True,\n",
       " (5, 3, 3): True,\n",
       " (5, 3, 4): True,\n",
       " (5, 3, 5): True,\n",
       " (5, 3, 6): True,\n",
       " (5, 4, 1): False,\n",
       " (5, 4, 2): True,\n",
       " (5, 4, 3): True,\n",
       " (5, 4, 4): True,\n",
       " (5, 4, 5): True,\n",
       " (5, 4, 6): True,\n",
       " (5, 5, 1): True,\n",
       " (5, 5, 2): True,\n",
       " (5, 5, 3): True,\n",
       " (5, 5, 4): True,\n",
       " (5, 5, 5): True,\n",
       " (5, 5, 6): True,\n",
       " (5, 6, 1): True,\n",
       " (5, 6, 2): True,\n",
       " (5, 6, 3): True,\n",
       " (5, 6, 4): True,\n",
       " (5, 6, 5): True,\n",
       " (5, 6, 6): True,\n",
       " (6, 1, 1): False,\n",
       " (6, 1, 2): False,\n",
       " (6, 1, 3): False,\n",
       " (6, 1, 4): True,\n",
       " (6, 1, 5): True,\n",
       " (6, 1, 6): True,\n",
       " (6, 2, 1): False,\n",
       " (6, 2, 2): True,\n",
       " (6, 2, 3): True,\n",
       " (6, 2, 4): True,\n",
       " (6, 2, 5): True,\n",
       " (6, 2, 6): True,\n",
       " (6, 3, 1): False,\n",
       " (6, 3, 2): True,\n",
       " (6, 3, 3): True,\n",
       " (6, 3, 4): True,\n",
       " (6, 3, 5): True,\n",
       " (6, 3, 6): True,\n",
       " (6, 4, 1): True,\n",
       " (6, 4, 2): True,\n",
       " (6, 4, 3): True,\n",
       " (6, 4, 4): True,\n",
       " (6, 4, 5): True,\n",
       " (6, 4, 6): True,\n",
       " (6, 5, 1): True,\n",
       " (6, 5, 2): True,\n",
       " (6, 5, 3): True,\n",
       " (6, 5, 4): True,\n",
       " (6, 5, 5): True,\n",
       " (6, 5, 6): True,\n",
       " (6, 6, 1): True,\n",
       " (6, 6, 2): True,\n",
       " (6, 6, 3): True,\n",
       " (6, 6, 4): True,\n",
       " (6, 6, 5): True,\n",
       " (6, 6, 6): True}"
      ]
     },
     "execution_count": 9,
     "metadata": {},
     "output_type": "execute_result"
    }
   ],
   "source": [
    "d2"
   ]
  },
  {
   "cell_type": "code",
   "execution_count": 10,
   "metadata": {
    "collapsed": true
   },
   "outputs": [],
   "source": [
    "dinv2 = defaultdict(list)\n",
    "for i,j in d2.items(): dinv2[j].append(i)"
   ]
  },
  {
   "cell_type": "code",
   "execution_count": 11,
   "metadata": {
    "scrolled": true
   },
   "outputs": [
    {
     "data": {
      "text/plain": [
       "defaultdict(list,\n",
       "            {False: [(1, 1, 1),\n",
       "              (1, 1, 2),\n",
       "              (1, 1, 3),\n",
       "              (1, 1, 4),\n",
       "              (1, 1, 5),\n",
       "              (1, 1, 6),\n",
       "              (1, 2, 1),\n",
       "              (1, 2, 2),\n",
       "              (1, 2, 3),\n",
       "              (1, 2, 4),\n",
       "              (1, 2, 5),\n",
       "              (1, 2, 6),\n",
       "              (1, 3, 1),\n",
       "              (1, 3, 2),\n",
       "              (1, 3, 3),\n",
       "              (1, 3, 4),\n",
       "              (1, 3, 5),\n",
       "              (1, 3, 6),\n",
       "              (1, 4, 1),\n",
       "              (1, 4, 2),\n",
       "              (1, 4, 3),\n",
       "              (1, 4, 4),\n",
       "              (1, 4, 5),\n",
       "              (1, 5, 1),\n",
       "              (1, 5, 2),\n",
       "              (1, 5, 3),\n",
       "              (1, 5, 4),\n",
       "              (1, 6, 1),\n",
       "              (1, 6, 2),\n",
       "              (1, 6, 3),\n",
       "              (2, 1, 1),\n",
       "              (2, 1, 2),\n",
       "              (2, 1, 3),\n",
       "              (2, 1, 4),\n",
       "              (2, 1, 5),\n",
       "              (2, 1, 6),\n",
       "              (2, 2, 1),\n",
       "              (2, 2, 2),\n",
       "              (2, 2, 3),\n",
       "              (2, 2, 4),\n",
       "              (2, 3, 1),\n",
       "              (2, 3, 2),\n",
       "              (2, 4, 1),\n",
       "              (2, 4, 2),\n",
       "              (2, 5, 1),\n",
       "              (2, 6, 1),\n",
       "              (3, 1, 1),\n",
       "              (3, 1, 2),\n",
       "              (3, 1, 3),\n",
       "              (3, 1, 4),\n",
       "              (3, 1, 5),\n",
       "              (3, 1, 6),\n",
       "              (3, 2, 1),\n",
       "              (3, 2, 2),\n",
       "              (3, 3, 1),\n",
       "              (3, 4, 1),\n",
       "              (3, 5, 1),\n",
       "              (3, 6, 1),\n",
       "              (4, 1, 1),\n",
       "              (4, 1, 2),\n",
       "              (4, 1, 3),\n",
       "              (4, 1, 4),\n",
       "              (4, 1, 5),\n",
       "              (4, 2, 1),\n",
       "              (4, 2, 2),\n",
       "              (4, 3, 1),\n",
       "              (4, 4, 1),\n",
       "              (4, 5, 1),\n",
       "              (5, 1, 1),\n",
       "              (5, 1, 2),\n",
       "              (5, 1, 3),\n",
       "              (5, 1, 4),\n",
       "              (5, 2, 1),\n",
       "              (5, 3, 1),\n",
       "              (5, 4, 1),\n",
       "              (6, 1, 1),\n",
       "              (6, 1, 2),\n",
       "              (6, 1, 3),\n",
       "              (6, 2, 1),\n",
       "              (6, 3, 1)],\n",
       "             True: [(1, 4, 6),\n",
       "              (1, 5, 5),\n",
       "              (1, 5, 6),\n",
       "              (1, 6, 4),\n",
       "              (1, 6, 5),\n",
       "              (1, 6, 6),\n",
       "              (2, 2, 5),\n",
       "              (2, 2, 6),\n",
       "              (2, 3, 3),\n",
       "              (2, 3, 4),\n",
       "              (2, 3, 5),\n",
       "              (2, 3, 6),\n",
       "              (2, 4, 3),\n",
       "              (2, 4, 4),\n",
       "              (2, 4, 5),\n",
       "              (2, 4, 6),\n",
       "              (2, 5, 2),\n",
       "              (2, 5, 3),\n",
       "              (2, 5, 4),\n",
       "              (2, 5, 5),\n",
       "              (2, 5, 6),\n",
       "              (2, 6, 2),\n",
       "              (2, 6, 3),\n",
       "              (2, 6, 4),\n",
       "              (2, 6, 5),\n",
       "              (2, 6, 6),\n",
       "              (3, 2, 3),\n",
       "              (3, 2, 4),\n",
       "              (3, 2, 5),\n",
       "              (3, 2, 6),\n",
       "              (3, 3, 2),\n",
       "              (3, 3, 3),\n",
       "              (3, 3, 4),\n",
       "              (3, 3, 5),\n",
       "              (3, 3, 6),\n",
       "              (3, 4, 2),\n",
       "              (3, 4, 3),\n",
       "              (3, 4, 4),\n",
       "              (3, 4, 5),\n",
       "              (3, 4, 6),\n",
       "              (3, 5, 2),\n",
       "              (3, 5, 3),\n",
       "              (3, 5, 4),\n",
       "              (3, 5, 5),\n",
       "              (3, 5, 6),\n",
       "              (3, 6, 2),\n",
       "              (3, 6, 3),\n",
       "              (3, 6, 4),\n",
       "              (3, 6, 5),\n",
       "              (3, 6, 6),\n",
       "              (4, 1, 6),\n",
       "              (4, 2, 3),\n",
       "              (4, 2, 4),\n",
       "              (4, 2, 5),\n",
       "              (4, 2, 6),\n",
       "              (4, 3, 2),\n",
       "              (4, 3, 3),\n",
       "              (4, 3, 4),\n",
       "              (4, 3, 5),\n",
       "              (4, 3, 6),\n",
       "              (4, 4, 2),\n",
       "              (4, 4, 3),\n",
       "              (4, 4, 4),\n",
       "              (4, 4, 5),\n",
       "              (4, 4, 6),\n",
       "              (4, 5, 2),\n",
       "              (4, 5, 3),\n",
       "              (4, 5, 4),\n",
       "              (4, 5, 5),\n",
       "              (4, 5, 6),\n",
       "              (4, 6, 1),\n",
       "              (4, 6, 2),\n",
       "              (4, 6, 3),\n",
       "              (4, 6, 4),\n",
       "              (4, 6, 5),\n",
       "              (4, 6, 6),\n",
       "              (5, 1, 5),\n",
       "              (5, 1, 6),\n",
       "              (5, 2, 2),\n",
       "              (5, 2, 3),\n",
       "              (5, 2, 4),\n",
       "              (5, 2, 5),\n",
       "              (5, 2, 6),\n",
       "              (5, 3, 2),\n",
       "              (5, 3, 3),\n",
       "              (5, 3, 4),\n",
       "              (5, 3, 5),\n",
       "              (5, 3, 6),\n",
       "              (5, 4, 2),\n",
       "              (5, 4, 3),\n",
       "              (5, 4, 4),\n",
       "              (5, 4, 5),\n",
       "              (5, 4, 6),\n",
       "              (5, 5, 1),\n",
       "              (5, 5, 2),\n",
       "              (5, 5, 3),\n",
       "              (5, 5, 4),\n",
       "              (5, 5, 5),\n",
       "              (5, 5, 6),\n",
       "              (5, 6, 1),\n",
       "              (5, 6, 2),\n",
       "              (5, 6, 3),\n",
       "              (5, 6, 4),\n",
       "              (5, 6, 5),\n",
       "              (5, 6, 6),\n",
       "              (6, 1, 4),\n",
       "              (6, 1, 5),\n",
       "              (6, 1, 6),\n",
       "              (6, 2, 2),\n",
       "              (6, 2, 3),\n",
       "              (6, 2, 4),\n",
       "              (6, 2, 5),\n",
       "              (6, 2, 6),\n",
       "              (6, 3, 2),\n",
       "              (6, 3, 3),\n",
       "              (6, 3, 4),\n",
       "              (6, 3, 5),\n",
       "              (6, 3, 6),\n",
       "              (6, 4, 1),\n",
       "              (6, 4, 2),\n",
       "              (6, 4, 3),\n",
       "              (6, 4, 4),\n",
       "              (6, 4, 5),\n",
       "              (6, 4, 6),\n",
       "              (6, 5, 1),\n",
       "              (6, 5, 2),\n",
       "              (6, 5, 3),\n",
       "              (6, 5, 4),\n",
       "              (6, 5, 5),\n",
       "              (6, 5, 6),\n",
       "              (6, 6, 1),\n",
       "              (6, 6, 2),\n",
       "              (6, 6, 3),\n",
       "              (6, 6, 4),\n",
       "              (6, 6, 5),\n",
       "              (6, 6, 6)]})"
      ]
     },
     "execution_count": 11,
     "metadata": {},
     "output_type": "execute_result"
    }
   ],
   "source": [
    "dinv2"
   ]
  },
  {
   "cell_type": "markdown",
   "metadata": {},
   "source": [
    "Again, in this case, the events are considered *independent* thus the compound probability of each event is that of $1/6^3$"
   ]
  },
  {
   "cell_type": "code",
   "execution_count": 12,
   "metadata": {
    "collapsed": true
   },
   "outputs": [],
   "source": [
    "X2={i:len(j)/6.0**3 for i,j in dinv2.items()}"
   ]
  },
  {
   "cell_type": "code",
   "execution_count": 13,
   "metadata": {
    "scrolled": true
   },
   "outputs": [
    {
     "data": {
      "text/plain": [
       "{False: 0.37037037037037035, True: 0.6296296296296297}"
      ]
     },
     "execution_count": 13,
     "metadata": {},
     "output_type": "execute_result"
    }
   ],
   "source": [
    "X2"
   ]
  },
  {
   "cell_type": "markdown",
   "metadata": {},
   "source": [
    "In this case, we say the event being discussed (half of the product of each outcome, for each event being greater than the sum) is *more likely* to happen."
   ]
  },
  {
   "cell_type": "markdown",
   "metadata": {
    "collapsed": true
   },
   "source": [
    "### Repeating the first problem, but with an unfair die instead\n",
    "A normal die has a fair and equal distributed probability of $1/6$, and the other one has the following distribution:\n",
    "\n",
    "$$P(1)=P(2)=P(3)=\\frac{1}{9} \\\\P(4)=P(5)=P(6)=\\frac{2}{9}$$\n",
    "\n",
    "This makes that, for example, the result of getting $P(\\{1,6\\})$ is\n",
    "\n",
    "$$ P(\\{1,6\\}) = P(1) \\times P(6) = \\frac{2}{9} \\times \\frac{1}{6} $$"
   ]
  },
  {
   "cell_type": "code",
   "execution_count": 15,
   "metadata": {},
   "outputs": [],
   "source": [
    "import pandas as pd"
   ]
  },
  {
   "cell_type": "code",
   "execution_count": 22,
   "metadata": {},
   "outputs": [],
   "source": [
    "d3 = pd.DataFrame(index=[(i,j) for i in range(1,7) for j in range(1,7)],\n",
    "             columns=['sm','d1','d2','pd1','pd2','p'])"
   ]
  },
  {
   "cell_type": "code",
   "execution_count": 29,
   "metadata": {},
   "outputs": [],
   "source": [
    "d3.d1=[i[0] for i in d3.index]\n",
    "d3.d2=[i[1] for i in d3.index]"
   ]
  },
  {
   "cell_type": "code",
   "execution_count": 72,
   "metadata": {},
   "outputs": [],
   "source": [
    "#we choose this instead of `map()`, which returns an iterator in python3\n",
    "d3['sm'] = d3['d1'] + d3['d2'] "
   ]
  },
  {
   "cell_type": "code",
   "execution_count": 73,
   "metadata": {},
   "outputs": [
    {
     "data": {
      "text/html": [
       "<div>\n",
       "<style>\n",
       "    .dataframe thead tr:only-child th {\n",
       "        text-align: right;\n",
       "    }\n",
       "\n",
       "    .dataframe thead th {\n",
       "        text-align: left;\n",
       "    }\n",
       "\n",
       "    .dataframe tbody tr th {\n",
       "        vertical-align: top;\n",
       "    }\n",
       "</style>\n",
       "<table border=\"1\" class=\"dataframe\">\n",
       "  <thead>\n",
       "    <tr style=\"text-align: right;\">\n",
       "      <th></th>\n",
       "      <th>sm</th>\n",
       "      <th>d1</th>\n",
       "      <th>d2</th>\n",
       "      <th>pd1</th>\n",
       "      <th>pd2</th>\n",
       "      <th>p</th>\n",
       "    </tr>\n",
       "  </thead>\n",
       "  <tbody>\n",
       "    <tr>\n",
       "      <th>(1, 1)</th>\n",
       "      <td>2</td>\n",
       "      <td>1</td>\n",
       "      <td>1</td>\n",
       "      <td>NaN</td>\n",
       "      <td>NaN</td>\n",
       "      <td>NaN</td>\n",
       "    </tr>\n",
       "    <tr>\n",
       "      <th>(1, 2)</th>\n",
       "      <td>3</td>\n",
       "      <td>1</td>\n",
       "      <td>2</td>\n",
       "      <td>NaN</td>\n",
       "      <td>NaN</td>\n",
       "      <td>NaN</td>\n",
       "    </tr>\n",
       "    <tr>\n",
       "      <th>(1, 3)</th>\n",
       "      <td>4</td>\n",
       "      <td>1</td>\n",
       "      <td>3</td>\n",
       "      <td>NaN</td>\n",
       "      <td>NaN</td>\n",
       "      <td>NaN</td>\n",
       "    </tr>\n",
       "    <tr>\n",
       "      <th>(1, 4)</th>\n",
       "      <td>5</td>\n",
       "      <td>1</td>\n",
       "      <td>4</td>\n",
       "      <td>NaN</td>\n",
       "      <td>NaN</td>\n",
       "      <td>NaN</td>\n",
       "    </tr>\n",
       "    <tr>\n",
       "      <th>(1, 5)</th>\n",
       "      <td>6</td>\n",
       "      <td>1</td>\n",
       "      <td>5</td>\n",
       "      <td>NaN</td>\n",
       "      <td>NaN</td>\n",
       "      <td>NaN</td>\n",
       "    </tr>\n",
       "  </tbody>\n",
       "</table>\n",
       "</div>"
      ],
      "text/plain": [
       "        sm  d1  d2  pd1  pd2    p\n",
       "(1, 1)   2   1   1  NaN  NaN  NaN\n",
       "(1, 2)   3   1   2  NaN  NaN  NaN\n",
       "(1, 3)   4   1   3  NaN  NaN  NaN\n",
       "(1, 4)   5   1   4  NaN  NaN  NaN\n",
       "(1, 5)   6   1   5  NaN  NaN  NaN"
      ]
     },
     "execution_count": 73,
     "metadata": {},
     "output_type": "execute_result"
    }
   ],
   "source": [
    "d3.head()"
   ]
  },
  {
   "cell_type": "code",
   "execution_count": 80,
   "metadata": {},
   "outputs": [],
   "source": [
    "# set the probabilities\n",
    "d3.loc[d3.d1<=3,'pd1'] = 1/9.\n",
    "d3.loc[d3.d1>3,'pd1'] = 2/9.\n",
    "d3['pd2']=1/6.\n",
    "\n",
    "# compute the probabilities\n",
    "d3['p'] = d3['pd1']*d3['pd2']"
   ]
  },
  {
   "cell_type": "code",
   "execution_count": 81,
   "metadata": {},
   "outputs": [
    {
     "data": {
      "text/html": [
       "<div>\n",
       "<style>\n",
       "    .dataframe thead tr:only-child th {\n",
       "        text-align: right;\n",
       "    }\n",
       "\n",
       "    .dataframe thead th {\n",
       "        text-align: left;\n",
       "    }\n",
       "\n",
       "    .dataframe tbody tr th {\n",
       "        vertical-align: top;\n",
       "    }\n",
       "</style>\n",
       "<table border=\"1\" class=\"dataframe\">\n",
       "  <thead>\n",
       "    <tr style=\"text-align: right;\">\n",
       "      <th></th>\n",
       "      <th>sm</th>\n",
       "      <th>d1</th>\n",
       "      <th>d2</th>\n",
       "      <th>pd1</th>\n",
       "      <th>pd2</th>\n",
       "      <th>p</th>\n",
       "    </tr>\n",
       "  </thead>\n",
       "  <tbody>\n",
       "    <tr>\n",
       "      <th>(1, 1)</th>\n",
       "      <td>2</td>\n",
       "      <td>1</td>\n",
       "      <td>1</td>\n",
       "      <td>0.111111</td>\n",
       "      <td>0.166667</td>\n",
       "      <td>0.0185185</td>\n",
       "    </tr>\n",
       "    <tr>\n",
       "      <th>(1, 2)</th>\n",
       "      <td>3</td>\n",
       "      <td>1</td>\n",
       "      <td>2</td>\n",
       "      <td>0.111111</td>\n",
       "      <td>0.166667</td>\n",
       "      <td>0.0185185</td>\n",
       "    </tr>\n",
       "    <tr>\n",
       "      <th>(1, 3)</th>\n",
       "      <td>4</td>\n",
       "      <td>1</td>\n",
       "      <td>3</td>\n",
       "      <td>0.111111</td>\n",
       "      <td>0.166667</td>\n",
       "      <td>0.0185185</td>\n",
       "    </tr>\n",
       "    <tr>\n",
       "      <th>(1, 4)</th>\n",
       "      <td>5</td>\n",
       "      <td>1</td>\n",
       "      <td>4</td>\n",
       "      <td>0.111111</td>\n",
       "      <td>0.166667</td>\n",
       "      <td>0.0185185</td>\n",
       "    </tr>\n",
       "    <tr>\n",
       "      <th>(1, 5)</th>\n",
       "      <td>6</td>\n",
       "      <td>1</td>\n",
       "      <td>5</td>\n",
       "      <td>0.111111</td>\n",
       "      <td>0.166667</td>\n",
       "      <td>0.0185185</td>\n",
       "    </tr>\n",
       "  </tbody>\n",
       "</table>\n",
       "</div>"
      ],
      "text/plain": [
       "        sm  d1  d2       pd1       pd2          p\n",
       "(1, 1)   2   1   1  0.111111  0.166667  0.0185185\n",
       "(1, 2)   3   1   2  0.111111  0.166667  0.0185185\n",
       "(1, 3)   4   1   3  0.111111  0.166667  0.0185185\n",
       "(1, 4)   5   1   4  0.111111  0.166667  0.0185185\n",
       "(1, 5)   6   1   5  0.111111  0.166667  0.0185185"
      ]
     },
     "execution_count": 81,
     "metadata": {},
     "output_type": "execute_result"
    }
   ],
   "source": [
    "d3.head()"
   ]
  },
  {
   "cell_type": "code",
   "execution_count": 90,
   "metadata": {},
   "outputs": [
    {
     "data": {
      "text/plain": [
       "sm\n",
       "7     0.166667\n",
       "8     0.148148\n",
       "9     0.129630\n",
       "6     0.129630\n",
       "10    0.111111\n",
       "5     0.092593\n",
       "11    0.074074\n",
       "4     0.055556\n",
       "12    0.037037\n",
       "3     0.037037\n",
       "2     0.018519\n",
       "Name: p, dtype: float64"
      ]
     },
     "execution_count": 90,
     "metadata": {},
     "output_type": "execute_result"
    }
   ],
   "source": [
    "d3.groupby('sm')['p'].sum().sort_values(ascending=False)"
   ]
  },
  {
   "cell_type": "code",
   "execution_count": 96,
   "metadata": {},
   "outputs": [
    {
     "data": {
      "text/plain": [
       "sm\n",
       "7     0.166667\n",
       "8     0.148148\n",
       "9     0.129630\n",
       "6     0.129630\n",
       "10    0.111111\n",
       "5     0.092593\n",
       "11    0.074074\n",
       "4     0.055556\n",
       "12    0.037037\n",
       "3     0.037037\n",
       "2     0.018519\n",
       "Name: p, dtype: float64"
      ]
     },
     "execution_count": 96,
     "metadata": {},
     "output_type": "execute_result"
    }
   ],
   "source": [
    "d3.groupby('sm')['p'].sum().sort_values(ascending=False)"
   ]
  },
  {
   "cell_type": "code",
   "execution_count": 101,
   "metadata": {},
   "outputs": [
    {
     "data": {
      "text/plain": [
       "<matplotlib.axes._subplots.AxesSubplot at 0x7f30e920ab70>"
      ]
     },
     "execution_count": 101,
     "metadata": {},
     "output_type": "execute_result"
    },
    {
     "data": {
      "image/png": "[encoded data removed]",
      "text/plain": [
       "<matplotlib.figure.Figure at 0x7f30e9816ac8>"
      ]
     },
     "metadata": {},
     "output_type": "display_data"
    }
   ],
   "source": [
    "# plot the probabilites\n",
    "d3.groupby('sm')['p'].sum().plot.bar()"
   ]
  },
  {
   "cell_type": "markdown",
   "metadata": {},
   "source": [
    "## 2.1.3 Continuous Random Variables"
   ]
  },
  {
   "cell_type": "code",
   "execution_count": null,
   "metadata": {
    "collapsed": true
   },
   "outputs": [],
   "source": []
  }
 ],
 "metadata": {
  "kernelspec": {
   "display_name": "Python [conda env:stats]",
   "language": "python",
   "name": "conda-env-stats-py"
  },
  "language_info": {
   "codemirror_mode": {
    "name": "ipython",
    "version": 3
   },
   "file_extension": ".py",
   "mimetype": "text/x-python",
   "name": "python",
   "nbconvert_exporter": "python",
   "pygments_lexer": "ipython3",
   "version": "3.6.3"
  }
 },
 "nbformat": 4,
 "nbformat_minor": 2
}
